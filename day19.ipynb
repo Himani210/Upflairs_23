{
 "cells": [
  {
   "cell_type": "code",
   "execution_count": 1,
   "metadata": {},
   "outputs": [],
   "source": [
    "import nltk #largest library(900 mb)\n",
    "from nltk.chat.util import Chat,reflections"
   ]
  },
  {
   "cell_type": "code",
   "execution_count": 2,
   "metadata": {},
   "outputs": [
    {
     "data": {
      "text/plain": [
       "{'i am': 'you are',\n",
       " 'i was': 'you were',\n",
       " 'i': 'you',\n",
       " \"i'm\": 'you are',\n",
       " \"i'd\": 'you would',\n",
       " \"i've\": 'you have',\n",
       " \"i'll\": 'you will',\n",
       " 'my': 'your',\n",
       " 'you are': 'I am',\n",
       " 'you were': 'I was',\n",
       " \"you've\": 'I have',\n",
       " \"you'll\": 'I will',\n",
       " 'your': 'my',\n",
       " 'yours': 'mine',\n",
       " 'you': 'me',\n",
       " 'me': 'you'}"
      ]
     },
     "execution_count": 2,
     "metadata": {},
     "output_type": "execute_result"
    }
   ],
   "source": [
    "reflections"
   ]
  },
  {
   "cell_type": "code",
   "execution_count": 3,
   "metadata": {},
   "outputs": [],
   "source": [
    "rules=[\n",
    "    (r'aaj garmi kyu h',['mjhe ni pata','m kyu btau'],),\n",
    "    (r'how would I learn NLTK',['You may go to official docs'],),\n",
    "    (r'or bata kuch naya taza',['only maza','sab mstt','all good',]),]\n",
    "#r=raw string(allows regular expression)"
   ]
  },
  {
   "cell_type": "code",
   "execution_count": 38,
   "metadata": {},
   "outputs": [
    {
     "name": "stdout",
     "output_type": "stream",
     "text": [
      "Your Question plz\n",
      "aaj garmi kyu h\n",
      "Answers: mjhe ni pata\n",
      "m kyu btau\n",
      "--------------------\n",
      "Your Question plz\n",
      "how would I learn NLTK\n",
      "Answers: You may go to official docs\n",
      "--------------------\n",
      "Your Question plz\n",
      "or bata kuch naya taza\n",
      "Answers: only maza\n",
      "sab mstt\n",
      "all good\n",
      "--------------------\n"
     ]
    }
   ],
   "source": [
    "for que,ans in rules:\n",
    "    print(\"Your Question plz\")\n",
    "    print(que)\n",
    "    print('Answers: ',end='')\n",
    "    for a in ans:\n",
    "        print(a)\n",
    "    print('-'*20)    "
   ]
  },
  {
   "cell_type": "code",
   "execution_count": 4,
   "metadata": {},
   "outputs": [],
   "source": [
    "cb=Chat(rules,reflections)\n"
   ]
  },
  {
   "cell_type": "code",
   "execution_count": 5,
   "metadata": {},
   "outputs": [
    {
     "name": "stdout",
     "output_type": "stream",
     "text": [
      "all good\n"
     ]
    }
   ],
   "source": [
    "question=input('Ask your question')\n",
    "resp=cb.respond(question)\n",
    "print(resp)\n"
   ]
  },
  {
   "cell_type": "code",
   "execution_count": 49,
   "metadata": {},
   "outputs": [
    {
     "name": "stdout",
     "output_type": "stream",
     "text": [
      "mjhe ni pata kyu h\n"
     ]
    }
   ],
   "source": [
    "#cb.converse()  #will lead to infinite loop\n",
    "rules=[\n",
    "    (r'aaj garmi (.*) h',['mjhe ni pata %1 h','m kyu btau',],),\n",
    "    (r'how would I learn NLTK',['You may go to official docs'],),\n",
    "    (r'or bata kuch naya taza',['only maza','sab mstt','all good',]),]\n",
    "#r=raw string(allows regular expression)\n",
    "cb=Chat(rules,reflections)\n",
    "\n",
    "\n",
    "question=input('Ask your question')\n",
    "resp=cb.respond(question)\n",
    "print(resp)\n"
   ]
  },
  {
   "cell_type": "code",
   "execution_count": 46,
   "metadata": {},
   "outputs": [
    {
     "name": "stdout",
     "output_type": "stream",
     "text": [
      "Say: could not recognise\n"
     ]
    }
   ],
   "source": [
    "import pyttsx3\n",
    "import speech_recognition as sr\n",
    "recognizer=sr.Recognizer()\n",
    "spEng=pyttsx3.init()\n",
    "spEng.setProperty('rate',100)\n",
    "with sr.Microphone() as mic:\n",
    "    print('Say:',end=' ')\n",
    "    audio=recognizer.listen(mic,timeout=2,phrase_time_limit=2)\n",
    "    try:\n",
    "        text=recognizer.recognize_google(audio)\n",
    "        print(text)\n",
    "        resp=cb.respond(text)\n",
    "        spEng.say(resp)\n",
    "        spEng.runAndWait()\n",
    "    except Exception as err:\n",
    "        print('could not recognise')   "
   ]
  },
  {
   "attachments": {},
   "cell_type": "markdown",
   "metadata": {},
   "source": []
  },
  {
   "cell_type": "code",
   "execution_count": 47,
   "metadata": {},
   "outputs": [],
   "source": [
    "# regular expression\n",
    "#()    Capture & group\n",
    "#.     any character (expect new line)\n",
    "#*     zero or many occurences\n",
    "#[]    set of characters\n",
    "#a-z   all small alphabet\n",
    "#A-Z   capital alphabet\n",
    "#0-9   all numbers\n",
    "#^     starting with\n",
    "#$     ending with\n",
    "#?     zero or one occurence only\n",
    "#+     one or more occurences\n",
    "#{}    exact number of occurences\n",
    "#\\w    only word characters: alphabet,numbers and underscore\n",
    "#\\W    not word charcaters"
   ]
  },
  {
   "cell_type": "code",
   "execution_count": 1,
   "metadata": {},
   "outputs": [],
   "source": [
    "import flask #works only in py file\n"
   ]
  },
  {
   "cell_type": "code",
   "execution_count": 4,
   "metadata": {},
   "outputs": [],
   "source": [
    "#working of @ (Decorator)\n",
    "def specialvala(f):\n",
    "   def ekOr():\n",
    "      print('Hii')\n",
    "      f()\n",
    "      print('bye')\n",
    "   return ekOr\n",
    "\n"
   ]
  },
  {
   "cell_type": "code",
   "execution_count": 5,
   "metadata": {},
   "outputs": [],
   "source": [
    "def simple():\n",
    "    print('wow')"
   ]
  },
  {
   "cell_type": "code",
   "execution_count": 6,
   "metadata": {},
   "outputs": [
    {
     "name": "stdout",
     "output_type": "stream",
     "text": [
      "wow\n"
     ]
    }
   ],
   "source": [
    "simple()"
   ]
  },
  {
   "cell_type": "code",
   "execution_count": 7,
   "metadata": {},
   "outputs": [],
   "source": [
    "simple=specialvala(simple)\n"
   ]
  },
  {
   "cell_type": "code",
   "execution_count": 8,
   "metadata": {},
   "outputs": [
    {
     "name": "stdout",
     "output_type": "stream",
     "text": [
      "Hii\n",
      "wow\n",
      "bye\n"
     ]
    }
   ],
   "source": [
    "simple()"
   ]
  },
  {
   "cell_type": "code",
   "execution_count": null,
   "metadata": {},
   "outputs": [],
   "source": []
  }
 ],
 "metadata": {
  "kernelspec": {
   "display_name": "Python 3",
   "language": "python",
   "name": "python3"
  },
  "language_info": {
   "codemirror_mode": {
    "name": "ipython",
    "version": 3
   },
   "file_extension": ".py",
   "mimetype": "text/x-python",
   "name": "python",
   "nbconvert_exporter": "python",
   "pygments_lexer": "ipython3",
   "version": "3.10.2"
  },
  "orig_nbformat": 4
 },
 "nbformat": 4,
 "nbformat_minor": 2
}

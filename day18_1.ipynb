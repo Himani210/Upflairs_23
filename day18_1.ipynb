{
 "cells": [
  {
   "cell_type": "code",
   "execution_count": 6,
   "metadata": {},
   "outputs": [],
   "source": [
    "import pyaudio\n",
    "import pyttsx3\n",
    "import nltk #natural lang toolkit\n",
    "import speech_recognition as sr"
   ]
  },
  {
   "cell_type": "code",
   "execution_count": 7,
   "metadata": {},
   "outputs": [],
   "source": [
    "spEng=pyttsx3.init()\n",
    "spEng.setProperty('rate',100) #speed-words/unit #normal speed-100-120"
   ]
  },
  {
   "cell_type": "code",
   "execution_count": 8,
   "metadata": {},
   "outputs": [],
   "source": [
    "spEng.say('Hi Himani!')\n",
    "spEng.runAndWait()"
   ]
  },
  {
   "cell_type": "code",
   "execution_count": 9,
   "metadata": {},
   "outputs": [],
   "source": [
    "recognizer=sr.Recognizer()"
   ]
  },
  {
   "cell_type": "code",
   "execution_count": 10,
   "metadata": {},
   "outputs": [
    {
     "name": "stdout",
     "output_type": "stream",
     "text": [
      "Say: could not recognise\n"
     ]
    }
   ],
   "source": [
    "#to record from mic\n",
    "with sr.Microphone() as mic:\n",
    "    print('Say:',end=' ')\n",
    "    audio=recognizer.listen(mic,timeout=2,phrase_time_limit=2)\n",
    "    try:\n",
    "        text=recognizer.recognize_google(audio)\n",
    "        print(text)\n",
    "        spEng.say(text)\n",
    "        spEng.runAndWait()\n",
    "    except Exception as err:\n",
    "        print('could not recognise')    "
   ]
  },
  {
   "cell_type": "code",
   "execution_count": 11,
   "metadata": {},
   "outputs": [
    {
     "name": "stdout",
     "output_type": "stream",
     "text": [
      "Say: could not recognise\n"
     ]
    }
   ],
   "source": [
    "with sr.Microphone() as mic:\n",
    "    print('Say:',end=' ')\n",
    "    audio=recognizer.listen(mic,timeout=2,phrase_time_limit=2)\n",
    "    try:\n",
    "        text=recognizer.recognize_google(audio)\n",
    "        print(text)\n",
    "        \n",
    "    except Exception as err:\n",
    "        print('could not recognise')   "
   ]
  },
  {
   "cell_type": "code",
   "execution_count": null,
   "metadata": {},
   "outputs": [],
   "source": []
  }
 ],
 "metadata": {
  "kernelspec": {
   "display_name": "Python 3",
   "language": "python",
   "name": "python3"
  },
  "language_info": {
   "codemirror_mode": {
    "name": "ipython",
    "version": 3
   },
   "file_extension": ".py",
   "mimetype": "text/x-python",
   "name": "python",
   "nbconvert_exporter": "python",
   "pygments_lexer": "ipython3",
   "version": "3.10.2"
  },
  "orig_nbformat": 4
 },
 "nbformat": 4,
 "nbformat_minor": 2
}

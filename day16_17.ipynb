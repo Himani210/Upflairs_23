{
 "cells": [
  {
   "cell_type": "code",
   "execution_count": 1,
   "metadata": {},
   "outputs": [],
   "source": [
    "import cv2\n",
    "import face_recognition as fr\n",
    "import pandas as pd\n"
   ]
  },
  {
   "cell_type": "code",
   "execution_count": 2,
   "metadata": {},
   "outputs": [
    {
     "name": "stdout",
     "output_type": "stream",
     "text": [
      "[Errno 2] No such file or directory: 'face_data.csv'\n"
     ]
    }
   ],
   "source": [
    "#real time face recognition\n",
    "fd=cv2.CascadeClassifier(\n",
    "    cv2.data.haarcascades +\n",
    "    'haarcascade_frontalface_default.xml'\n",
    ")\n",
    "\n",
    "vid = cv2.VideoCapture(0)\n",
    "name = input('Enter your name:')\n",
    "frameLimit = 20\n",
    "frameCount = 0\n",
    "names = []\n",
    "enc = []\n",
    "while True:\n",
    "    flag, img = vid.read()\n",
    "    if flag:\n",
    "        img_gray = cv2.cvtColor(img, cv2.COLOR_BGR2GRAY)\n",
    "        faces = fd.detectMultiScale(\n",
    "            img_gray,\n",
    "            scaleFactor = 1.1,\n",
    "            minNeighbors = 5,\n",
    "            minSize = (50,50)\n",
    "        )\n",
    "\n",
    "        if len(faces) == 1:\n",
    "            x,y,w,h = faces[0]\n",
    "            img_face = img[y:y+h,x:x+w,:].copy()\n",
    "            img_face = cv2.resize(img_face,(400,400), cv2.INTER_CUBIC)\n",
    "            face_encoding = fr.face_encodings(img_face)\n",
    "            if len(face_encoding) == 1:\n",
    "                enc.append(face_encoding[0].tolist())\n",
    "                names.append(name)\n",
    "                frameCount += 1\n",
    "                cv2.putText(img,str(frameCount),(30,30),cv2.FONT_HERSHEY_COMPLEX,1.5,(0,0,255),5)\n",
    "                #print(frameCount)\n",
    "                if frameCount == frameLimit:\n",
    "                    #to add new and old data'\n",
    "                    try:\n",
    "                        old_data=pd.read_csv('face_data.csv',index_col=0,sep='|')\n",
    "                    except Exception as e:\n",
    "                        print(e)\n",
    "                    else:\n",
    "                        enc_old=old_data['encoding'].values.tolist()\n",
    "                        names_old=old_data['names'].values_tolist()\n",
    "                        enc=enc_old+names\n",
    "                    data = {'names': names, 'encoding':enc}\n",
    "                    pd.DataFrame(data).to_csv('face_data.csv',sep='|')\n",
    "                    break\n",
    "            \n",
    "        for x,y,w,h in faces:\n",
    "            cv2.rectangle(\n",
    "                img, \n",
    "                pt1=(x,y), pt2=(x+w, y+h), \n",
    "                color = (0,0,255),\n",
    "                thickness=8\n",
    "            )\n",
    "        cv2.imshow('Preview', img)\n",
    "        key = cv2.waitKey(1)\n",
    "        if key == ord('q'):\n",
    "            break\n",
    "\n",
    "\n",
    "cv2.destroyAllWindows()\n",
    "cv2.waitKey(1)\n",
    "vid.release()"
   ]
  },
  {
   "cell_type": "code",
   "execution_count": 3,
   "metadata": {},
   "outputs": [
    {
     "data": {
      "text/html": [
       "<div>\n",
       "<style scoped>\n",
       "    .dataframe tbody tr th:only-of-type {\n",
       "        vertical-align: middle;\n",
       "    }\n",
       "\n",
       "    .dataframe tbody tr th {\n",
       "        vertical-align: top;\n",
       "    }\n",
       "\n",
       "    .dataframe thead th {\n",
       "        text-align: right;\n",
       "    }\n",
       "</style>\n",
       "<table border=\"1\" class=\"dataframe\">\n",
       "  <thead>\n",
       "    <tr style=\"text-align: right;\">\n",
       "      <th></th>\n",
       "      <th>names</th>\n",
       "      <th>encoding</th>\n",
       "    </tr>\n",
       "  </thead>\n",
       "  <tbody>\n",
       "    <tr>\n",
       "      <th>0</th>\n",
       "      <td>himani</td>\n",
       "      <td>[-0.08887481  0.07928683  0.05533491 -0.041142...</td>\n",
       "    </tr>\n",
       "    <tr>\n",
       "      <th>1</th>\n",
       "      <td>himani</td>\n",
       "      <td>[-0.10876712  0.05631923  0.01121822 -0.046934...</td>\n",
       "    </tr>\n",
       "    <tr>\n",
       "      <th>2</th>\n",
       "      <td>himani</td>\n",
       "      <td>[-0.05560287  0.06873059  0.02136588 -0.050177...</td>\n",
       "    </tr>\n",
       "    <tr>\n",
       "      <th>3</th>\n",
       "      <td>himani</td>\n",
       "      <td>[-4.94323857e-02  8.06036070e-02  3.32889184e-...</td>\n",
       "    </tr>\n",
       "    <tr>\n",
       "      <th>4</th>\n",
       "      <td>himani</td>\n",
       "      <td>[-6.42953590e-02  4.04748172e-02  2.22914517e-...</td>\n",
       "    </tr>\n",
       "  </tbody>\n",
       "</table>\n",
       "</div>"
      ],
      "text/plain": [
       "    names                                           encoding\n",
       "0  himani  [-0.08887481  0.07928683  0.05533491 -0.041142...\n",
       "1  himani  [-0.10876712  0.05631923  0.01121822 -0.046934...\n",
       "2  himani  [-0.05560287  0.06873059  0.02136588 -0.050177...\n",
       "3  himani  [-4.94323857e-02  8.06036070e-02  3.32889184e-...\n",
       "4  himani  [-6.42953590e-02  4.04748172e-02  2.22914517e-..."
      ]
     },
     "execution_count": 3,
     "metadata": {},
     "output_type": "execute_result"
    }
   ],
   "source": [
    "face_data=pd.read_csv('face_data.csv',index_col=0)\n",
    "face_data\n"
   ]
  },
  {
   "cell_type": "code",
   "execution_count": null,
   "metadata": {},
   "outputs": [],
   "source": [
    "pd.DataFrame()"
   ]
  }
 ],
 "metadata": {
  "kernelspec": {
   "display_name": "Python 3",
   "language": "python",
   "name": "python3"
  },
  "language_info": {
   "codemirror_mode": {
    "name": "ipython",
    "version": 3
   },
   "file_extension": ".py",
   "mimetype": "text/x-python",
   "name": "python",
   "nbconvert_exporter": "python",
   "pygments_lexer": "ipython3",
   "version": "3.10.2"
  },
  "orig_nbformat": 4
 },
 "nbformat": 4,
 "nbformat_minor": 2
}

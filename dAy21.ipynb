{
 "cells": [
  {
   "cell_type": "code",
   "execution_count": null,
   "metadata": {},
   "outputs": [],
   "source": [
    "import nltk\n"
   ]
  },
  {
   "cell_type": "code",
   "execution_count": 1,
   "metadata": {},
   "outputs": [],
   "source": [
    "from nltk.chat.util import Chat,reflections"
   ]
  },
  {
   "cell_type": "code",
   "execution_count": 2,
   "metadata": {},
   "outputs": [],
   "source": [
    "rules=[('hello',['hi','hello']),\n",
    "       ('ac is not working',['pankha chalao','aisa hi hota h jecrc mein'])]"
   ]
  },
  {
   "cell_type": "code",
   "execution_count": 4,
   "metadata": {},
   "outputs": [],
   "source": [
    "cb=Chat(rules)"
   ]
  },
  {
   "cell_type": "code",
   "execution_count": 5,
   "metadata": {},
   "outputs": [
    {
     "name": "stdout",
     "output_type": "stream",
     "text": [
      "Question: \n",
      " \t hello\n",
      "Answer:\n",
      "\t hi\n",
      "\t hello\n",
      "****************\n",
      "Question: \n",
      " \t ac is not working\n",
      "Answer:\n",
      "\t pankha chalao\n",
      "\t aisa hi hota h jecrc mein\n",
      "****************\n"
     ]
    }
   ],
   "source": [
    "for q,a in rules:\n",
    "    print('Question: \\n \\t',q)\n",
    "    print('Answer:')\n",
    "    for ans in a:\n",
    "        print(\"\\t\",ans)\n",
    "    print('*'*16)    "
   ]
  },
  {
   "cell_type": "code",
   "execution_count": 6,
   "metadata": {},
   "outputs": [
    {
     "data": {
      "text/plain": [
       "'hello'"
      ]
     },
     "execution_count": 6,
     "metadata": {},
     "output_type": "execute_result"
    }
   ],
   "source": [
    "cb.respond('hello')"
   ]
  },
  {
   "cell_type": "code",
   "execution_count": 7,
   "metadata": {},
   "outputs": [
    {
     "data": {
      "text/plain": [
       "'hello'"
      ]
     },
     "execution_count": 7,
     "metadata": {},
     "output_type": "execute_result"
    }
   ],
   "source": [
    "cb.respond('hello')"
   ]
  },
  {
   "cell_type": "code",
   "execution_count": 8,
   "metadata": {},
   "outputs": [
    {
     "data": {
      "text/plain": [
       "'hi'"
      ]
     },
     "execution_count": 8,
     "metadata": {},
     "output_type": "execute_result"
    }
   ],
   "source": [
    "cb.respond('hello')"
   ]
  },
  {
   "cell_type": "code",
   "execution_count": 9,
   "metadata": {},
   "outputs": [],
   "source": [
    "import pyttsx3\n",
    "import speech_recognition as sr"
   ]
  },
  {
   "cell_type": "code",
   "execution_count": 14,
   "metadata": {},
   "outputs": [
    {
     "name": "stdout",
     "output_type": "stream",
     "text": [
      "Say: \n",
      " Could not recognize\n"
     ]
    }
   ],
   "source": [
    "spEng=pyttsx3.init()\n",
    "spEng.setProperty('rate',150)\n",
    "recognizer=sr.Recognizer()\n",
    "\n",
    "with sr.Microphone() as mic:\n",
    "    print('Say:',end=\" \")\n",
    "    try:\n",
    "        audio=recognizer.listen(mic,timeout=2,phrase_time_limit=2)\n",
    "        text=recognizer.recognize_google(audio)\n",
    "        print(text)\n",
    "        resp=cb.respond(text)\n",
    "        print(resp)\n",
    "        spEng.say(resp)\n",
    "        spEng.runAndWait()\n",
    "    except Exception as err:\n",
    "        print('\\n Could not recognize')     "
   ]
  },
  {
   "cell_type": "code",
   "execution_count": 15,
   "metadata": {},
   "outputs": [
    {
     "name": "stdout",
     "output_type": "stream",
     "text": [
      "None\n"
     ]
    }
   ],
   "source": [
    "voices=spEng.getProperty('voices')\n",
    "voice=voices[0]\n",
    "print(voice.age)"
   ]
  },
  {
   "cell_type": "code",
   "execution_count": null,
   "metadata": {},
   "outputs": [],
   "source": []
  }
 ],
 "metadata": {
  "kernelspec": {
   "display_name": "Python 3",
   "language": "python",
   "name": "python3"
  },
  "language_info": {
   "codemirror_mode": {
    "name": "ipython",
    "version": 3
   },
   "file_extension": ".py",
   "mimetype": "text/x-python",
   "name": "python",
   "nbconvert_exporter": "python",
   "pygments_lexer": "ipython3",
   "version": "3.10.2"
  },
  "orig_nbformat": 4
 },
 "nbformat": 4,
 "nbformat_minor": 2
}

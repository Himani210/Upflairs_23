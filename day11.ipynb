{
 "cells": [
  {
   "cell_type": "code",
   "execution_count": 1,
   "metadata": {},
   "outputs": [],
   "source": [
    "import cv2 as cv\n",
    "import skimage as ski\n",
    "import matplotlib.pyplot as plt\n"
   ]
  },
  {
   "cell_type": "code",
   "execution_count": 2,
   "metadata": {},
   "outputs": [],
   "source": [
    "vid=cv.VideoCapture(0)"
   ]
  },
  {
   "cell_type": "code",
   "execution_count": 3,
   "metadata": {},
   "outputs": [
    {
     "data": {
      "text/plain": [
       "cv2.VideoCapture"
      ]
     },
     "execution_count": 3,
     "metadata": {},
     "output_type": "execute_result"
    }
   ],
   "source": [
    "type(vid)"
   ]
  },
  {
   "cell_type": "code",
   "execution_count": 4,
   "metadata": {},
   "outputs": [
    {
     "data": {
      "text/plain": [
       "True"
      ]
     },
     "execution_count": 4,
     "metadata": {},
     "output_type": "execute_result"
    }
   ],
   "source": [
    "vid.isOpened()"
   ]
  },
  {
   "cell_type": "code",
   "execution_count": 5,
   "metadata": {},
   "outputs": [],
   "source": [
    "k=vid.read()"
   ]
  },
  {
   "cell_type": "code",
   "execution_count": 6,
   "metadata": {},
   "outputs": [
    {
     "data": {
      "text/plain": [
       "(tuple, 2)"
      ]
     },
     "execution_count": 6,
     "metadata": {},
     "output_type": "execute_result"
    }
   ],
   "source": [
    "type(k),len(k)"
   ]
  },
  {
   "cell_type": "code",
   "execution_count": 7,
   "metadata": {},
   "outputs": [
    {
     "data": {
      "text/plain": [
       "(True,\n",
       " array([[[ 46,  72, 119],\n",
       "         [ 50,  73, 120],\n",
       "         [ 53,  73, 120],\n",
       "         ...,\n",
       "         [ 82,  93, 131],\n",
       "         [ 80,  93, 131],\n",
       "         [ 79,  92, 130]],\n",
       " \n",
       "        [[ 48,  75, 121],\n",
       "         [ 50,  73, 120],\n",
       "         [ 51,  72, 118],\n",
       "         ...,\n",
       "         [ 80,  91, 128],\n",
       "         [ 79,  92, 130],\n",
       "         [ 79,  92, 130]],\n",
       " \n",
       "        [[ 52,  77, 122],\n",
       "         [ 50,  74, 119],\n",
       "         [ 50,  72, 118],\n",
       "         ...,\n",
       "         [ 78,  90, 127],\n",
       "         [ 79,  92, 129],\n",
       "         [ 78,  91, 128]],\n",
       " \n",
       "        ...,\n",
       " \n",
       "        [[ 11,  16,  43],\n",
       "         [ 11,  15,  43],\n",
       "         [ 11,  15,  44],\n",
       "         ...,\n",
       "         [  9,   6,  16],\n",
       "         [  9,   6,  16],\n",
       "         [ 10,   7,  17]],\n",
       " \n",
       "        [[ 10,  15,  44],\n",
       "         [  9,  14,  43],\n",
       "         [  9,  14,  44],\n",
       "         ...,\n",
       "         [ 10,   7,  17],\n",
       "         [ 10,   7,  17],\n",
       "         [ 10,   7,  17]],\n",
       " \n",
       "        [[  9,  15,  45],\n",
       "         [  8,  14,  44],\n",
       "         [  8,  14,  44],\n",
       "         ...,\n",
       "         [ 12,   8,  19],\n",
       "         [ 10,   7,  17],\n",
       "         [ 10,   7,  17]]], dtype=uint8))"
      ]
     },
     "execution_count": 7,
     "metadata": {},
     "output_type": "execute_result"
    }
   ],
   "source": [
    "k"
   ]
  },
  {
   "cell_type": "code",
   "execution_count": 19,
   "metadata": {},
   "outputs": [],
   "source": [
    "vid.release()"
   ]
  },
  {
   "cell_type": "code",
   "execution_count": null,
   "metadata": {},
   "outputs": [],
   "source": []
  }
 ],
 "metadata": {
  "kernelspec": {
   "display_name": "Python 3",
   "language": "python",
   "name": "python3"
  },
  "language_info": {
   "codemirror_mode": {
    "name": "ipython",
    "version": 3
   },
   "file_extension": ".py",
   "mimetype": "text/x-python",
   "name": "python",
   "nbconvert_exporter": "python",
   "pygments_lexer": "ipython3",
   "version": "3.10.2"
  },
  "orig_nbformat": 4
 },
 "nbformat": 4,
 "nbformat_minor": 2
}
